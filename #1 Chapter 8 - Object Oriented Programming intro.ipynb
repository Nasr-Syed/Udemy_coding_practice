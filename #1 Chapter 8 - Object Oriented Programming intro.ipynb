{
 "cells": [
  {
   "cell_type": "markdown",
   "id": "3f5826a9",
   "metadata": {},
   "source": [
    "# Object Oriented Programming (OOP)"
   ]
  },
  {
   "cell_type": "markdown",
   "id": "1f566aa5",
   "metadata": {},
   "source": [
    "basically an object is a class. people use it interchangeably"
   ]
  },
  {
   "cell_type": "markdown",
   "id": "6c74c920",
   "metadata": {},
   "source": [
    "def __init__(self,n1,n2):\n",
    "   \n",
    "    \n"
   ]
  },
  {
   "cell_type": "markdown",
   "id": "0a009361",
   "metadata": {},
   "source": [
    " self.n1 = n1\n",
    "    "
   ]
  },
  {
   "cell_type": "markdown",
   "id": "f6454c42",
   "metadata": {},
   "source": [
    "self.n2 = n2"
   ]
  },
  {
   "cell_type": "markdown",
   "id": "08e40aca",
   "metadata": {},
   "source": [
    "- that is how you initialize an object in the class. with its own variables and you set them as such using the self variable."
   ]
  },
  {
   "cell_type": "markdown",
   "id": "a4e79c50",
   "metadata": {},
   "source": [
    "ATTRIBUTES AND CLASS KEYWORD"
   ]
  },
  {
   "cell_type": "code",
   "execution_count": 2,
   "id": "0cd7d743",
   "metadata": {},
   "outputs": [],
   "source": [
    "mylist = [1,2,3]"
   ]
  },
  {
   "cell_type": "code",
   "execution_count": 3,
   "id": "6bdfe60d",
   "metadata": {},
   "outputs": [],
   "source": [
    "myset = set()"
   ]
  },
  {
   "cell_type": "code",
   "execution_count": 4,
   "id": "76388522",
   "metadata": {},
   "outputs": [
    {
     "data": {
      "text/plain": [
       "set"
      ]
     },
     "execution_count": 4,
     "metadata": {},
     "output_type": "execute_result"
    }
   ],
   "source": [
    "type(myset)"
   ]
  },
  {
   "cell_type": "code",
   "execution_count": 5,
   "id": "4804cd07",
   "metadata": {},
   "outputs": [
    {
     "data": {
      "text/plain": [
       "list"
      ]
     },
     "execution_count": 5,
     "metadata": {},
     "output_type": "execute_result"
    }
   ],
   "source": [
    "type(mylist)"
   ]
  },
  {
   "cell_type": "code",
   "execution_count": 22,
   "id": "d8ee3e1c",
   "metadata": {},
   "outputs": [],
   "source": [
    "class Dog():\n",
    "    #when creating instance of the class, use the unique init method\n",
    "    def __init__(self,mybreed,name,spots):\n",
    "        self.my_attribute = mybreed\n",
    "        self.name = name\n",
    "        self.spots = spots\n",
    "    # as you can see, the parameter breed is just a parameter for that initiator.\n",
    "    # the my_attribute variable is the variable of that object.\n",
    "    # just note that the parameter called in the beginning needs to match whatever variable you = it to."
   ]
  },
  {
   "cell_type": "markdown",
   "id": "0b71d330",
   "metadata": {},
   "source": [
    "- but note that in convention, it is easier to just keep the same names for the initializors.\n",
    "- you can see how it is done below"
   ]
  },
  {
   "cell_type": "code",
   "execution_count": 32,
   "id": "a1f8ab29",
   "metadata": {},
   "outputs": [],
   "source": [
    "class Dog():\n",
    "    #when creating instance of the class, use the unique init method\n",
    "    \n",
    "    def __init__(self,breed,name,spots):\n",
    "        self.breed = breed\n",
    "        self.name = name\n",
    "        #this one we want a boolean\n",
    "        self.spots = spots"
   ]
  },
  {
   "cell_type": "code",
   "execution_count": 33,
   "id": "3e0d774a",
   "metadata": {},
   "outputs": [],
   "source": [
    "my_dog = Dog(breed = 'Lab',name = 'Abyzu',spots = 'False')"
   ]
  },
  {
   "cell_type": "code",
   "execution_count": 26,
   "id": "23874c7a",
   "metadata": {},
   "outputs": [
    {
     "data": {
      "text/plain": [
       "'Lab'"
      ]
     },
     "execution_count": 26,
     "metadata": {},
     "output_type": "execute_result"
    }
   ],
   "source": [
    "my_dog.breed"
   ]
  },
  {
   "cell_type": "code",
   "execution_count": 27,
   "id": "aaa8a35d",
   "metadata": {},
   "outputs": [
    {
     "data": {
      "text/plain": [
       "'Abyzu'"
      ]
     },
     "execution_count": 27,
     "metadata": {},
     "output_type": "execute_result"
    }
   ],
   "source": [
    "my_dog.name"
   ]
  },
  {
   "cell_type": "code",
   "execution_count": 34,
   "id": "1eda5571",
   "metadata": {},
   "outputs": [
    {
     "data": {
      "text/plain": [
       "'False'"
      ]
     },
     "execution_count": 34,
     "metadata": {},
     "output_type": "execute_result"
    }
   ],
   "source": [
    "my_dog.spots"
   ]
  },
  {
   "cell_type": "markdown",
   "id": "3bebb17c",
   "metadata": {},
   "source": [
    "- as you can see above, the object needs to be initialized and values set for for the parameters that you made. (breed,name,spots)\n",
    "- that object.(whatever) will call the parameters of that object."
   ]
  },
  {
   "cell_type": "markdown",
   "id": "9e845c3f",
   "metadata": {},
   "source": [
    "# Object Oriented Programming (OOP) Part 2"
   ]
  },
  {
   "cell_type": "code",
   "execution_count": 66,
   "id": "ac997823",
   "metadata": {},
   "outputs": [],
   "source": [
    "class Dog():\n",
    "    #when creating instance of the class, use the unique init method\n",
    "    species = 'mammal'\n",
    "    def __init__(self,breed,name):\n",
    "        self.breed = breed\n",
    "        self.name = name\n",
    "     \n",
    "        \n",
    "    #Operations/Actions ----> Methods\n",
    "    def bark(self,number):\n",
    "        print(\"Woof Woof! My name is {} and my number tag is {}\".format(self.name,number))"
   ]
  },
  {
   "cell_type": "code",
   "execution_count": 67,
   "id": "bd4beb33",
   "metadata": {},
   "outputs": [],
   "source": [
    "my_dog = Dog('Lab','Franklin')"
   ]
  },
  {
   "cell_type": "code",
   "execution_count": 42,
   "id": "f7b09af6",
   "metadata": {},
   "outputs": [
    {
     "data": {
      "text/plain": [
       "'mammal'"
      ]
     },
     "execution_count": 42,
     "metadata": {},
     "output_type": "execute_result"
    }
   ],
   "source": [
    "my_dog.species"
   ]
  },
  {
   "cell_type": "code",
   "execution_count": 44,
   "id": "0f022c39",
   "metadata": {},
   "outputs": [
    {
     "data": {
      "text/plain": [
       "'Franklin'"
      ]
     },
     "execution_count": 44,
     "metadata": {},
     "output_type": "execute_result"
    }
   ],
   "source": [
    "my_dog.name"
   ]
  },
  {
   "cell_type": "code",
   "execution_count": 46,
   "id": "bcf7f2da",
   "metadata": {},
   "outputs": [
    {
     "data": {
      "text/plain": [
       "'Lab'"
      ]
     },
     "execution_count": 46,
     "metadata": {},
     "output_type": "execute_result"
    }
   ],
   "source": [
    "my_dog.breed"
   ]
  },
  {
   "cell_type": "code",
   "execution_count": 68,
   "id": "0e5ef11d",
   "metadata": {},
   "outputs": [
    {
     "name": "stdout",
     "output_type": "stream",
     "text": [
      "Woof Woof! My name is Franklin and my number tag is 10\n"
     ]
    }
   ],
   "source": [
    "my_dog.bark(10)"
   ]
  },
  {
   "cell_type": "code",
   "execution_count": 79,
   "id": "50ec5990",
   "metadata": {},
   "outputs": [],
   "source": [
    "class Circle():\n",
    "    # class object attribute\n",
    "    pi = 3.14\n",
    "    \n",
    "    def __init__(self,radius=1):\n",
    "        self.radius = radius\n",
    "        self.area = radius*radius*self.pi\n",
    "    \n",
    "    # method\n",
    "    def get_circumference(self):\n",
    "        return self.radius * self.pi * 2"
   ]
  },
  {
   "cell_type": "code",
   "execution_count": 80,
   "id": "92117de0",
   "metadata": {},
   "outputs": [],
   "source": [
    "my_circle = Circle()"
   ]
  },
  {
   "cell_type": "code",
   "execution_count": 72,
   "id": "641f3552",
   "metadata": {},
   "outputs": [
    {
     "data": {
      "text/plain": [
       "3.14"
      ]
     },
     "execution_count": 72,
     "metadata": {},
     "output_type": "execute_result"
    }
   ],
   "source": [
    "my_circle.pi"
   ]
  },
  {
   "cell_type": "code",
   "execution_count": 74,
   "id": "698fd79e",
   "metadata": {},
   "outputs": [
    {
     "data": {
      "text/plain": [
       "1"
      ]
     },
     "execution_count": 74,
     "metadata": {},
     "output_type": "execute_result"
    }
   ],
   "source": [
    "my_circle.radius"
   ]
  },
  {
   "cell_type": "code",
   "execution_count": 77,
   "id": "03eb3fa8",
   "metadata": {},
   "outputs": [
    {
     "data": {
      "text/plain": [
       "6.28"
      ]
     },
     "execution_count": 77,
     "metadata": {},
     "output_type": "execute_result"
    }
   ],
   "source": [
    "my_circle.get_circumference()"
   ]
  },
  {
   "cell_type": "code",
   "execution_count": 82,
   "id": "aa85f4f9",
   "metadata": {},
   "outputs": [
    {
     "data": {
      "text/plain": [
       "3.14"
      ]
     },
     "execution_count": 82,
     "metadata": {},
     "output_type": "execute_result"
    }
   ],
   "source": [
    "my_circle.area"
   ]
  },
  {
   "cell_type": "markdown",
   "id": "3cc421d2",
   "metadata": {},
   "source": [
    "# Inheritance and Polymorphism"
   ]
  },
  {
   "cell_type": "markdown",
   "id": "80a67edd",
   "metadata": {},
   "source": [
    "Inheritance is basically making classes using other classes that are defined. Let start by making a base class Animal\n"
   ]
  },
  {
   "cell_type": "code",
   "execution_count": 161,
   "id": "b10cd118",
   "metadata": {},
   "outputs": [],
   "source": [
    "class Animal():\n",
    "    def __init__(self):\n",
    "        print(\"Animal created\")\n",
    "    def who_am_i(self):\n",
    "        print(\"I am an animal\")\n",
    "    \n",
    "    def caller(self):\n",
    "        print(\"I am the alpha! from the beginning.\")\n",
    "        \n",
    "    def eat(self):\n",
    "        print(\"I am an Animal thats eating broccoli\")"
   ]
  },
  {
   "cell_type": "code",
   "execution_count": 115,
   "id": "2e2f8121",
   "metadata": {},
   "outputs": [
    {
     "name": "stdout",
     "output_type": "stream",
     "text": [
      "Animal created\n"
     ]
    }
   ],
   "source": [
    "myanimal = Animal()"
   ]
  },
  {
   "cell_type": "markdown",
   "id": "4db31bc1",
   "metadata": {},
   "source": [
    "Let's have our Dog class from before, \"inherit\" the properties of the Animal class!"
   ]
  },
  {
   "cell_type": "code",
   "execution_count": 162,
   "id": "8a41c1f5",
   "metadata": {},
   "outputs": [],
   "source": [
    "class Dog(Animal): # this is how we derive features from our base Animal class\n",
    "    def __init__(self):\n",
    "        Animal.__init__(self)\n",
    "        print(\"Dog Created\")\n",
    "    def bark(self):\n",
    "        print(\"woof\")\n",
    "    def eat(self):\n",
    "        print(\"I am a Dog thats eating broccoli\")\n",
    "  "
   ]
  },
  {
   "cell_type": "code",
   "execution_count": 163,
   "id": "d6b5f361",
   "metadata": {},
   "outputs": [
    {
     "name": "stdout",
     "output_type": "stream",
     "text": [
      "Animal created\n",
      "Dog Created\n"
     ]
    }
   ],
   "source": [
    "mydog = Dog()"
   ]
  },
  {
   "cell_type": "code",
   "execution_count": 108,
   "id": "821d48ee",
   "metadata": {},
   "outputs": [
    {
     "name": "stdout",
     "output_type": "stream",
     "text": [
      "I am a Dog thats eating broccoli\n"
     ]
    }
   ],
   "source": [
    "mydog.eat()"
   ]
  },
  {
   "cell_type": "code",
   "execution_count": 105,
   "id": "af3d6a26",
   "metadata": {},
   "outputs": [
    {
     "name": "stdout",
     "output_type": "stream",
     "text": [
      "I am an animal\n"
     ]
    }
   ],
   "source": [
    "mydog.who_am_i() "
   ]
  },
  {
   "cell_type": "markdown",
   "id": "27b3837c",
   "metadata": {},
   "source": [
    "you are able to overwrite methods within the class. for example there is a who_am_i method in the animal class. if i redo that in the dog class and call it from dog, it will re-write it."
   ]
  },
  {
   "cell_type": "code",
   "execution_count": 113,
   "id": "59e11b40",
   "metadata": {},
   "outputs": [
    {
     "name": "stdout",
     "output_type": "stream",
     "text": [
      "I am a Dog thats eating broccoli\n"
     ]
    }
   ],
   "source": [
    "mydog.eat()"
   ]
  },
  {
   "cell_type": "markdown",
   "id": "7f83bae8",
   "metadata": {},
   "source": [
    "when you inherit from the base class, you have access to all the old methods from the parent class. (animal)"
   ]
  },
  {
   "cell_type": "code",
   "execution_count": 119,
   "id": "a1418902",
   "metadata": {},
   "outputs": [
    {
     "name": "stdout",
     "output_type": "stream",
     "text": [
      "I am the alpha! from the beginning.\n"
     ]
    }
   ],
   "source": [
    "mydog.caller() "
   ]
  },
  {
   "cell_type": "code",
   "execution_count": 121,
   "id": "bd947b0e",
   "metadata": {},
   "outputs": [],
   "source": [
    "# as you can see above, the caller() was not even in the dog class."
   ]
  },
  {
   "cell_type": "markdown",
   "id": "82df0010",
   "metadata": {},
   "source": [
    "# Polymorphism "
   ]
  },
  {
   "cell_type": "code",
   "execution_count": 127,
   "id": "713d3a11",
   "metadata": {},
   "outputs": [],
   "source": [
    "class Dog():\n",
    "    def __init__(self,name):\n",
    "        self.name = name\n",
    "    def speak(self):\n",
    "        return self.name + \" says woof\""
   ]
  },
  {
   "cell_type": "code",
   "execution_count": 128,
   "id": "7cd05304",
   "metadata": {},
   "outputs": [],
   "source": [
    "class Cat():\n",
    "    def __init__(self,name):\n",
    "        self.name = name\n",
    "    def speak(self):\n",
    "        return self.name + \" says meow\""
   ]
  },
  {
   "cell_type": "code",
   "execution_count": 131,
   "id": "d40c37ef",
   "metadata": {},
   "outputs": [
    {
     "data": {
      "text/plain": [
       "'Niko says woof'"
      ]
     },
     "execution_count": 131,
     "metadata": {},
     "output_type": "execute_result"
    }
   ],
   "source": [
    "niko = Dog(\"Niko\")\n",
    "felix = Cat(\"Felix\")\n",
    "niko.speak()\n"
   ]
  },
  {
   "cell_type": "code",
   "execution_count": 133,
   "id": "67e898cb",
   "metadata": {},
   "outputs": [
    {
     "data": {
      "text/plain": [
       "'Felix says meow'"
      ]
     },
     "execution_count": 133,
     "metadata": {},
     "output_type": "execute_result"
    }
   ],
   "source": [
    "felix.speak()"
   ]
  },
  {
   "cell_type": "code",
   "execution_count": 137,
   "id": "650978e1",
   "metadata": {},
   "outputs": [
    {
     "name": "stdout",
     "output_type": "stream",
     "text": [
      "<class '__main__.Dog'>\n",
      "Niko says woof\n",
      "<class '__main__.Cat'>\n",
      "Felix says meow\n"
     ]
    }
   ],
   "source": [
    "for pet in [niko,felix]:\n",
    "    print(type(pet))\n",
    "    print(pet.speak())"
   ]
  },
  {
   "cell_type": "code",
   "execution_count": 167,
   "id": "a4223188",
   "metadata": {},
   "outputs": [],
   "source": [
    "def pet_speak(pet):\n",
    "    print(pet.speak())"
   ]
  },
  {
   "cell_type": "code",
   "execution_count": 168,
   "id": "a0bf66fd",
   "metadata": {},
   "outputs": [
    {
     "name": "stdout",
     "output_type": "stream",
     "text": [
      "Niko says woof\n"
     ]
    }
   ],
   "source": [
    "pet_speak(niko)"
   ]
  },
  {
   "cell_type": "code",
   "execution_count": 140,
   "id": "3302c78c",
   "metadata": {},
   "outputs": [
    {
     "name": "stdout",
     "output_type": "stream",
     "text": [
      "Felix says meow\n"
     ]
    }
   ],
   "source": [
    "pet_speak(felix)"
   ]
  },
  {
   "cell_type": "markdown",
   "id": "208b3613",
   "metadata": {},
   "source": [
    "now taking a look at abstract classes.."
   ]
  },
  {
   "cell_type": "code",
   "execution_count": 141,
   "id": "aa920739",
   "metadata": {},
   "outputs": [],
   "source": [
    "class Animal():\n",
    "    def __init__(self,name):\n",
    "        self.name = name\n",
    "    def speak(self):\n",
    "        raise NotImplementedError(\"Subclass must implement this abstract method\")"
   ]
  },
  {
   "cell_type": "code",
   "execution_count": 150,
   "id": "64746a01",
   "metadata": {},
   "outputs": [],
   "source": [
    "class Dog(Animal):\n",
    "    \n",
    "    def speak(self):\n",
    "        return self.name + \" says woofy\""
   ]
  },
  {
   "cell_type": "code",
   "execution_count": 151,
   "id": "76790f61",
   "metadata": {},
   "outputs": [],
   "source": [
    "class Cat(Animal):\n",
    "    \n",
    "    def speak(self):\n",
    "        return self.name + \" says Meow\""
   ]
  },
  {
   "cell_type": "code",
   "execution_count": 152,
   "id": "d9bb9b78",
   "metadata": {},
   "outputs": [],
   "source": [
    "fido = Dog(\"Fido\")"
   ]
  },
  {
   "cell_type": "code",
   "execution_count": 153,
   "id": "7d1bc8df",
   "metadata": {},
   "outputs": [],
   "source": [
    "abyzu = Cat(\"Abyzu\")"
   ]
  },
  {
   "cell_type": "code",
   "execution_count": 154,
   "id": "d3c94a64",
   "metadata": {},
   "outputs": [
    {
     "name": "stdout",
     "output_type": "stream",
     "text": [
      "Fido says woofy\n"
     ]
    }
   ],
   "source": [
    "print(fido.speak())"
   ]
  },
  {
   "cell_type": "code",
   "execution_count": 156,
   "id": "9a308dda",
   "metadata": {},
   "outputs": [
    {
     "name": "stdout",
     "output_type": "stream",
     "text": [
      "Abyzu says Meow\n"
     ]
    }
   ],
   "source": [
    "print(abyzu.speak())"
   ]
  }
 ],
 "metadata": {
  "kernelspec": {
   "display_name": "Python 3",
   "language": "python",
   "name": "python3"
  },
  "language_info": {
   "codemirror_mode": {
    "name": "ipython",
    "version": 3
   },
   "file_extension": ".py",
   "mimetype": "text/x-python",
   "name": "python",
   "nbconvert_exporter": "python",
   "pygments_lexer": "ipython3",
   "version": "3.8.8"
  }
 },
 "nbformat": 4,
 "nbformat_minor": 5
}
