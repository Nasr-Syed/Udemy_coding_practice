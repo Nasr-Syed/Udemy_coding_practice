{
 "cells": [
  {
   "cell_type": "markdown",
   "id": "722ef2e7",
   "metadata": {},
   "source": [
    " Functions use snake casing, which is all underscores between the words\n",
    " something like this function_one():\n",
    " \n",
    " * note it also has the () which basically means to call the function"
   ]
  },
  {
   "cell_type": "code",
   "execution_count": 4,
   "id": "9c5de849",
   "metadata": {},
   "outputs": [
    {
     "name": "stdout",
     "output_type": "stream",
     "text": [
      "3\n"
     ]
    }
   ],
   "source": [
    "def add_function(n1,n2):\n",
    "    return n1+n2\n",
    "\n",
    "result = add_function(1,2)\n",
    "print(result)"
   ]
  },
  {
   "cell_type": "markdown",
   "id": "8697a74a",
   "metadata": {},
   "source": [
    "Basics of Python Functions"
   ]
  },
  {
   "cell_type": "code",
   "execution_count": 7,
   "id": "556dcbca",
   "metadata": {},
   "outputs": [
    {
     "name": "stdout",
     "output_type": "stream",
     "text": [
      "Hello\n",
      "Hello\n",
      "Hello\n",
      "Hello\n"
     ]
    }
   ],
   "source": [
    "def say_hello():\n",
    "    print(\"Hello\")\n",
    "say_hello()\n",
    "say_hello()\n",
    "say_hello()\n",
    "say_hello()"
   ]
  },
  {
   "cell_type": "code",
   "execution_count": 11,
   "id": "4507edf5",
   "metadata": {},
   "outputs": [
    {
     "name": "stdout",
     "output_type": "stream",
     "text": [
      "Hi Nasr\n",
      "Hi Defalt\n"
     ]
    }
   ],
   "source": [
    "def nameyboy(name=\"Defalt\"): \n",
    "    #when you set the variable to equal, it will provide the default value if nothing is entered.\n",
    "    print(f'Hi {name}')\n",
    "    \n",
    "nameyboy('Nasr')\n",
    "nameyboy()"
   ]
  },
  {
   "cell_type": "code",
   "execution_count": 12,
   "id": "9ccd2079",
   "metadata": {},
   "outputs": [
    {
     "data": {
      "text/plain": [
       "30"
      ]
     },
     "execution_count": 12,
     "metadata": {},
     "output_type": "execute_result"
    }
   ],
   "source": [
    "def sum_numbers(num1,num2):\n",
    "    return num1+num2\n",
    "\n",
    "sum_numbers(10,20)"
   ]
  },
  {
   "cell_type": "code",
   "execution_count": 13,
   "id": "22be5be1",
   "metadata": {},
   "outputs": [
    {
     "data": {
      "text/plain": [
       "'1020'"
      ]
     },
     "execution_count": 13,
     "metadata": {},
     "output_type": "execute_result"
    }
   ],
   "source": [
    "sum_numbers('10','20')"
   ]
  },
  {
   "cell_type": "code",
   "execution_count": null,
   "id": "2c004f57",
   "metadata": {},
   "outputs": [],
   "source": []
  }
 ],
 "metadata": {
  "kernelspec": {
   "display_name": "Python 3",
   "language": "python",
   "name": "python3"
  },
  "language_info": {
   "codemirror_mode": {
    "name": "ipython",
    "version": 3
   },
   "file_extension": ".py",
   "mimetype": "text/x-python",
   "name": "python",
   "nbconvert_exporter": "python",
   "pygments_lexer": "ipython3",
   "version": "3.8.8"
  }
 },
 "nbformat": 4,
 "nbformat_minor": 5
}
