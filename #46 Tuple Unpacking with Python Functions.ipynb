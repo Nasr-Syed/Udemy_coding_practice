{
 "cells": [
  {
   "cell_type": "code",
   "execution_count": 1,
   "id": "8b801539",
   "metadata": {},
   "outputs": [],
   "source": [
    "stock_prices = [('Apple',200),('Google',400),('Micro',700)]"
   ]
  },
  {
   "cell_type": "code",
   "execution_count": 2,
   "id": "cd6dcaf3",
   "metadata": {},
   "outputs": [
    {
     "name": "stdout",
     "output_type": "stream",
     "text": [
      "('Apple', 200)\n",
      "('Google', 400)\n",
      "('Micro', 700)\n"
     ]
    }
   ],
   "source": [
    "for i in stock_prices:\n",
    "    print(i)"
   ]
  },
  {
   "cell_type": "code",
   "execution_count": 4,
   "id": "96552ee3",
   "metadata": {},
   "outputs": [
    {
     "name": "stdout",
     "output_type": "stream",
     "text": [
      "220.0\n",
      "440.0\n",
      "770.0\n"
     ]
    }
   ],
   "source": [
    "for ticker,price in stock_prices:\n",
    "    print(price+(0.1*price))"
   ]
  },
  {
   "cell_type": "code",
   "execution_count": 5,
   "id": "07553e56",
   "metadata": {},
   "outputs": [],
   "source": [
    "work_hours = [('Abby',400),('Joel',200),('Ellie',700)]"
   ]
  },
  {
   "cell_type": "code",
   "execution_count": 11,
   "id": "0d8feb51",
   "metadata": {},
   "outputs": [],
   "source": [
    "def employee_check(work_hours):\n",
    "    \n",
    "    current_max = 0\n",
    "    employee_of_month = ''\n",
    "    \n",
    "    for employee,hours in work_hours:\n",
    "        if hours > current_max:\n",
    "            current_max = hours \n",
    "            employee_of_the_month = employee\n",
    "        else:\n",
    "            pass\n",
    "        \n",
    "    return (employee_of_the_month, current_max)"
   ]
  },
  {
   "cell_type": "code",
   "execution_count": 13,
   "id": "f4f34a09",
   "metadata": {},
   "outputs": [
    {
     "data": {
      "text/plain": [
       "('Ellie', 700)"
      ]
     },
     "execution_count": 13,
     "metadata": {},
     "output_type": "execute_result"
    }
   ],
   "source": [
    "employee_check(work_hours)"
   ]
  },
  {
   "cell_type": "code",
   "execution_count": 20,
   "id": "23cf68b1",
   "metadata": {},
   "outputs": [],
   "source": [
    "result = employee_check(work_hours)"
   ]
  },
  {
   "cell_type": "code",
   "execution_count": 22,
   "id": "dd228e94",
   "metadata": {},
   "outputs": [],
   "source": [
    "n1,n2 = employee_check(work_hours)"
   ]
  },
  {
   "cell_type": "code",
   "execution_count": 23,
   "id": "fe8dc19c",
   "metadata": {},
   "outputs": [
    {
     "data": {
      "text/plain": [
       "'Ellie'"
      ]
     },
     "execution_count": 23,
     "metadata": {},
     "output_type": "execute_result"
    }
   ],
   "source": [
    "n1"
   ]
  },
  {
   "cell_type": "code",
   "execution_count": 24,
   "id": "33bab574",
   "metadata": {},
   "outputs": [
    {
     "data": {
      "text/plain": [
       "700"
      ]
     },
     "execution_count": 24,
     "metadata": {},
     "output_type": "execute_result"
    }
   ],
   "source": [
    "n2"
   ]
  },
  {
   "cell_type": "code",
   "execution_count": null,
   "id": "3cbc517b",
   "metadata": {},
   "outputs": [],
   "source": []
  }
 ],
 "metadata": {
  "kernelspec": {
   "display_name": "Python 3",
   "language": "python",
   "name": "python3"
  },
  "language_info": {
   "codemirror_mode": {
    "name": "ipython",
    "version": 3
   },
   "file_extension": ".py",
   "mimetype": "text/x-python",
   "name": "python",
   "nbconvert_exporter": "python",
   "pygments_lexer": "ipython3",
   "version": "3.8.8"
  }
 },
 "nbformat": 4,
 "nbformat_minor": 5
}
