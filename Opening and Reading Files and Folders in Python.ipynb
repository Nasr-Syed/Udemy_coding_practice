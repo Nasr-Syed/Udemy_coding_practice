{
 "cells": [
  {
   "cell_type": "code",
   "execution_count": 1,
   "id": "4e0a54de",
   "metadata": {},
   "outputs": [
    {
     "data": {
      "text/plain": [
       "'C:\\\\Users\\\\nasrs\\\\Documents\\\\Udemy Python Course 2021\\\\Chapter 14 - Advanced Python Modules'"
      ]
     },
     "execution_count": 1,
     "metadata": {},
     "output_type": "execute_result"
    }
   ],
   "source": [
    "pwd #this is a special command in jupyter"
   ]
  },
  {
   "cell_type": "code",
   "execution_count": 6,
   "id": "17991da2",
   "metadata": {},
   "outputs": [],
   "source": [
    "f = open('practice.txt','w+')\n",
    "f.write('This is a test string')\n",
    "f.close()"
   ]
  },
  {
   "cell_type": "markdown",
   "id": "9468cece",
   "metadata": {},
   "source": [
    "import os "
   ]
  },
  {
   "cell_type": "markdown",
   "id": "50fe6cbb",
   "metadata": {},
   "source": [
    "os.getcwd()"
   ]
  },
  {
   "cell_type": "code",
   "execution_count": 11,
   "id": "59436c38",
   "metadata": {},
   "outputs": [
    {
     "data": {
      "text/plain": [
       "['.ipynb_checkpoints',\n",
       " 'Collections Module .ipynb',\n",
       " 'Opening and Reading Files and Folders in Python.ipynb',\n",
       " 'practice.txt']"
      ]
     },
     "execution_count": 11,
     "metadata": {},
     "output_type": "execute_result"
    }
   ],
   "source": [
    "os.listdir() #this will list everything in my current directory"
   ]
  },
  {
   "cell_type": "code",
   "execution_count": 13,
   "id": "dcabfec7",
   "metadata": {},
   "outputs": [
    {
     "data": {
      "text/plain": [
       "['All Users', 'Default', 'Default User', 'desktop.ini', 'nasrs', 'Public']"
      ]
     },
     "execution_count": 13,
     "metadata": {},
     "output_type": "execute_result"
    }
   ],
   "source": [
    "os.listdir('C:\\\\Users')"
   ]
  },
  {
   "cell_type": "code",
   "execution_count": 22,
   "id": "152b4194",
   "metadata": {},
   "outputs": [],
   "source": [
    "import shutil\n"
   ]
  },
  {
   "cell_type": "code",
   "execution_count": 15,
   "id": "7d47f23d",
   "metadata": {},
   "outputs": [],
   "source": [
    "#with the shutil module, you can move around files"
   ]
  },
  {
   "cell_type": "code",
   "execution_count": 25,
   "id": "be7117ae",
   "metadata": {},
   "outputs": [
    {
     "data": {
      "text/plain": [
       "'C:\\\\Users\\\\nasrs\\\\Documents\\\\Udemy Python Course 2021\\\\Chapter 14 - Advanced Python Modules\\\\practice.txt'"
      ]
     },
     "execution_count": 25,
     "metadata": {},
     "output_type": "execute_result"
    }
   ],
   "source": [
    "shutil.move('C:\\\\Users\\\\nasrs\\\\Documents\\\\Udemy Python Course 2021\\\\practice.txt',os.getcwd())"
   ]
  },
  {
   "cell_type": "markdown",
   "id": "d44fb12b",
   "metadata": {},
   "source": [
    "* as you can see, the file got moved to the respective folder\n",
    "* i ran it again and moved it back into the Chapter 14 folder"
   ]
  },
  {
   "cell_type": "code",
   "execution_count": 18,
   "id": "dc821626",
   "metadata": {},
   "outputs": [],
   "source": [
    "import send2trash"
   ]
  },
  {
   "cell_type": "code",
   "execution_count": 26,
   "id": "f551a7a3",
   "metadata": {},
   "outputs": [
    {
     "data": {
      "text/plain": [
       "['.ipynb_checkpoints',\n",
       " 'Collections Module .ipynb',\n",
       " 'Opening and Reading Files and Folders in Python.ipynb',\n",
       " 'practice.txt']"
      ]
     },
     "execution_count": 26,
     "metadata": {},
     "output_type": "execute_result"
    }
   ],
   "source": [
    "os.listdir()"
   ]
  },
  {
   "cell_type": "code",
   "execution_count": 27,
   "id": "a9c5db7f",
   "metadata": {},
   "outputs": [],
   "source": [
    "send2trash.send2trash('practice.txt')"
   ]
  },
  {
   "cell_type": "code",
   "execution_count": 28,
   "id": "1583fc82",
   "metadata": {},
   "outputs": [
    {
     "data": {
      "text/plain": [
       "['.ipynb_checkpoints',\n",
       " 'Collections Module .ipynb',\n",
       " 'Opening and Reading Files and Folders in Python.ipynb']"
      ]
     },
     "execution_count": 28,
     "metadata": {},
     "output_type": "execute_result"
    }
   ],
   "source": [
    "os.listdir()"
   ]
  },
  {
   "cell_type": "markdown",
   "id": "7a96a5f5",
   "metadata": {},
   "source": [
    "* as you can see now, the file 'practice.txt' is gone now."
   ]
  },
  {
   "cell_type": "code",
   "execution_count": null,
   "id": "d99fc636",
   "metadata": {},
   "outputs": [],
   "source": []
  }
 ],
 "metadata": {
  "kernelspec": {
   "display_name": "Python 3",
   "language": "python",
   "name": "python3"
  },
  "language_info": {
   "codemirror_mode": {
    "name": "ipython",
    "version": 3
   },
   "file_extension": ".py",
   "mimetype": "text/x-python",
   "name": "python",
   "nbconvert_exporter": "python",
   "pygments_lexer": "ipython3",
   "version": "3.8.8"
  }
 },
 "nbformat": 4,
 "nbformat_minor": 5
}
